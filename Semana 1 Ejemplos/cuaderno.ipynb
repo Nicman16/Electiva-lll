{
 "cells": [
  {
   "cell_type": "markdown",
   "id": "c9030d24",
   "metadata": {},
   "source": [
    "Hacer una funcion que sume dos numeros"
   ]
  },
  {
   "cell_type": "code",
   "execution_count": 6,
   "id": "8303ae10",
   "metadata": {},
   "outputs": [],
   "source": [
    "def sumar_dos_numeros(a:int,b) -> int:\n",
    "    return a + b"
   ]
  },
  {
   "cell_type": "markdown",
   "id": "da41995d",
   "metadata": {},
   "source": [
    "Solo una linea"
   ]
  },
  {
   "cell_type": "code",
   "execution_count": 5,
   "id": "c7937589",
   "metadata": {},
   "outputs": [],
   "source": [
    "sumar_dos_numeros_2= lambda a,b: a + b"
   ]
  },
  {
   "cell_type": "code",
   "execution_count": 8,
   "id": "862e9e02",
   "metadata": {},
   "outputs": [
    {
     "data": {
      "text/plain": [
       "5"
      ]
     },
     "execution_count": 8,
     "metadata": {},
     "output_type": "execute_result"
    }
   ],
   "source": [
    "sumar_dos_numeros(2, 3)  "
   ]
  }
 ],
 "metadata": {
  "kernelspec": {
   "display_name": "Python 3",
   "language": "python",
   "name": "python3"
  },
  "language_info": {
   "codemirror_mode": {
    "name": "ipython",
    "version": 3
   },
   "file_extension": ".py",
   "mimetype": "text/x-python",
   "name": "python",
   "nbconvert_exporter": "python",
   "pygments_lexer": "ipython3",
   "version": "3.10.11"
  }
 },
 "nbformat": 4,
 "nbformat_minor": 5
}
